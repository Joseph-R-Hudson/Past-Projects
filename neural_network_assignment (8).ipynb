{
  "cells": [
    {
      "cell_type": "markdown",
      "metadata": {
        "id": "_DyVDeXCP93n"
      },
      "source": [
        "# Neural Network !\n",
        "\n",
        "![image1](https://drive.google.com/uc?id=11QVToYtjPIaTnaVExlhMDTdBL9dyCMoN)\n",
        "\n",
        "![image2](https://drive.google.com/uc?id=1GEuDt1Pki7m7CsiK4axjkVhZs92BKgVG)\n",
        "\n"
      ],
      "id": "_DyVDeXCP93n"
    },
    {
      "cell_type": "markdown",
      "metadata": {
        "id": "98cf809a"
      },
      "source": [
        "# NN Training Steps\n",
        "\n",
        "### 1. Feed forward\n",
        "- Apply linear transformation and activation function to determine the neurons in the next layers of NN\n",
        "\n",
        "#### LAYER 1\n",
        "\n",
        "1. Linear Transformation:\n",
        "\n",
        "$$\n",
        "z_1 = A_1 x + b_1\n",
        "$$\n",
        "\n",
        "2. Activation Function (sigmoid):\n",
        "\n",
        "$$\n",
        "a_1 = \\sigma(z_1)\n",
        "$$\n",
        "\n",
        "#### LAYER 2\n",
        "\n",
        "1. Linear Transformation:\n",
        "\n",
        "$$\n",
        "z_2 = A_2 a_1 + b_2\n",
        "$$\n",
        "\n",
        "2. Activation Function (sigmoid):\n",
        "\n",
        "$$\n",
        "a_2 = \\sigma(z_2)\n",
        "$$"
      ],
      "id": "98cf809a"
    },
    {
      "cell_type": "markdown",
      "metadata": {
        "id": "4410a720"
      },
      "source": [
        "### 2. Backpropogate\n",
        "\n",
        "We will visualize this in a smaller case for clarity:\n",
        "(in this case W is used for the weight matrices instead of A)\n",
        "\n",
        "![image-3.png](https://drive.google.com/uc?id=1SjPymYoI0iJPYAJqSKLttuUXjJi7fgB0)\n",
        "\n",
        "![image-4.png](https://drive.google.com/uc?id=1xyP1ocJGA-pS6z1BUpNISUmlTK09L4g8)\n",
        "\n",
        "\n",
        "### 3. Update Values of Weights\n",
        "(h is the learning rate)\n",
        "\n",
        "![image-5.png](https://drive.google.com/uc?id=1E5OIQQMK-wXDHxSbMdYNacifuAD9weC_)\n",
        "\n",
        "### 4. Repeat!"
      ],
      "id": "4410a720"
    },
    {
      "cell_type": "markdown",
      "metadata": {
        "id": "7a47261c"
      },
      "source": [
        "---\n",
        "# Make Neural Network !\n",
        "\n",
        "## TODO: MAKE A COPY OF THIS ASSIGNMENT AND EDIT\n",
        "\n",
        "Tips:\n",
        "- use `print` statements to debug your code\n",
        "- code small helper functions first and check if correct by running practice tests\n",
        "- check if matrices are the **correct dimension for matrix multiplication** by printing the matrix or printing the dimension of the matrix (may need to transpose by using `matrix.T` in some cases)\n",
        "- make sure you understand the math behind feeding forward and backpropogating before implementing the `feed_forward` and `gradient` functions\n",
        "- The internet is your friend! Look up unknown python syntax and error messages  \n",
        "- Other potentially useful functions: `np.dot`, `np.random.normal`, `np.exp`, `pd.DataFrame`"
      ],
      "id": "7a47261c"
    },
    {
      "cell_type": "markdown",
      "metadata": {
        "id": "2a369a29"
      },
      "source": [
        "# Load Libraries"
      ],
      "id": "2a369a29"
    },
    {
      "cell_type": "code",
      "execution_count": null,
      "metadata": {
        "id": "71669f29"
      },
      "outputs": [],
      "source": [
        "import numpy as np\n",
        "import pandas as pd\n",
        "from sklearn.model_selection import train_test_split\n",
        "from sklearn.preprocessing import normalize\n",
        "import matplotlib.pyplot as plt"
      ],
      "id": "71669f29"
    },
    {
      "cell_type": "markdown",
      "metadata": {
        "id": "ee8be56c"
      },
      "source": [
        "# Create Functions"
      ],
      "id": "ee8be56c"
    },
    {
      "cell_type": "markdown",
      "metadata": {
        "id": "c1233ded"
      },
      "source": [
        "## Small Helper Functions:"
      ],
      "id": "c1233ded"
    },
    {
      "cell_type": "markdown",
      "metadata": {
        "id": "fa53e104"
      },
      "source": [
        "#### `sigmoid(z)`\n",
        "- activation function\n",
        "-takes in a vector `z` and returns sigmoid `sig_z`"
      ],
      "id": "fa53e104"
    },
    {
      "cell_type": "code",
      "execution_count": null,
      "metadata": {
        "id": "5b5f637b"
      },
      "outputs": [],
      "source": [
        "def sigmoid(z):\n",
        "    sig_z  = 1/(1+np.exp(-z))\n",
        "    return sig_z"
      ],
      "id": "5b5f637b"
    },
    {
      "cell_type": "markdown",
      "metadata": {
        "id": "61c46a36"
      },
      "source": [
        "#### `sigmoid_derivative(a)`\n",
        "- derivative of activation function - for backpropogation\n",
        "- takes in vector `a`, such that `a` = `simgoid(z)`, and returns the sigmoid derivative `sig_deriv_a`"
      ],
      "id": "61c46a36"
    },
    {
      "cell_type": "code",
      "execution_count": null,
      "metadata": {
        "id": "63989bc2"
      },
      "outputs": [],
      "source": [
        "def sigmoid_derivative(a):\n",
        "    sig_deriv_a = a * (1-a)\n",
        "    return sig_deriv_a"
      ],
      "id": "63989bc2"
    },
    {
      "cell_type": "markdown",
      "metadata": {
        "id": "d7c0b2ff"
      },
      "source": [
        "#### `initialize_random_weights(i,j)`\n",
        "- initialize an `i` by `j` matrix with random values\n",
        "- takes in integer dimensions `i` and `j` and returns a `matrix` of random values (from a normal distribution)"
      ],
      "id": "d7c0b2ff"
    },
    {
      "cell_type": "code",
      "execution_count": null,
      "metadata": {
        "id": "ce1d5f83"
      },
      "outputs": [],
      "source": [
        "def initialize_random_weights(i,j):\n",
        "    matrix  = np.random.normal(0, 1 , size=(i, j))\n",
        "    return matrix"
      ],
      "id": "ce1d5f83"
    },
    {
      "cell_type": "markdown",
      "metadata": {
        "id": "596f6260"
      },
      "source": [
        "#### `cost_function(y, y_hat)`\n",
        "- takes in two values `y`, `yhat` and returns `error` between them"
      ],
      "id": "596f6260"
    },
    {
      "cell_type": "code",
      "execution_count": null,
      "metadata": {
        "id": "bb2279c6"
      },
      "outputs": [],
      "source": [
        "def cost_function(y, y_hat):\n",
        "    error = (y - y_hat)**2\n",
        "    return error"
      ],
      "id": "bb2279c6"
    },
    {
      "cell_type": "markdown",
      "metadata": {
        "id": "54e50ed1"
      },
      "source": [
        "## Major Functions:"
      ],
      "id": "54e50ed1"
    },
    {
      "cell_type": "markdown",
      "metadata": {
        "id": "73f4b896"
      },
      "source": [
        "#### ` feed_forward(x)`\n",
        "- takes in input vector `x` and applies linear transformation and sigmoid function for layers 1 and 2\n",
        "- returns output values for layers 1 and 2: `a1` = (a11, a12, a13) and `a2` = (a21)"
      ],
      "id": "73f4b896"
    },
    {
      "cell_type": "code",
      "execution_count": null,
      "metadata": {
        "id": "364373fc"
      },
      "outputs": [],
      "source": [
        "def feed_forward(x):\n",
        "    x = np.reshape(x,(3,1))\n",
        "    z1 = np.dot(W1,x)+b1\n",
        "    a1 = sigmoid(z1) #a1 is not needed for forward propagation, just a2 would be enough\n",
        "    # we need a1 for back propagation\n",
        "    W2_tp = np.transpose(W2)\n",
        "    z2 = np.dot(W2_tp,a1)+ b2\n",
        "    a2 = sigmoid(z2)\n",
        "    return a1, a2"
      ],
      "id": "364373fc"
    },
    {
      "cell_type": "markdown",
      "metadata": {
        "id": "59cf247c"
      },
      "source": [
        "#### `gradient(x,y,a1,a2)`\n",
        "- takes in input `x` and output `y` as well as calculated hidden layer `a1` and calculated output layer `a2`\n",
        "- calculates the gradient (see equations above) and returns change in weight matrices `dA1`, `dA2` and biases `db1`, `db2`"
      ],
      "id": "59cf247c"
    },
    {
      "cell_type": "code",
      "execution_count": null,
      "metadata": {
        "id": "a86c475a"
      },
      "outputs": [],
      "source": [
        "def gradient(x, y, a1, a2):\n",
        "    x = np.reshape(x,(3,1))\n",
        "    part1 = (a2-y) * sigmoid_derivative(a2)\n",
        "    part2 = np.dot(W2, part1) * sigmoid_derivative(a1)\n",
        "    dW1 = np.dot(part2,np.transpose(x))\n",
        "    dW2 = np.dot(part1,np.transpose(a1))\n",
        "    db1 = part2\n",
        "    db2 =  part1\n",
        "    return dW1, dW2, db1 ,db2"
      ],
      "id": "a86c475a"
    },
    {
      "cell_type": "markdown",
      "metadata": {
        "id": "278c2212"
      },
      "source": [
        "#### `train(inputs, outputs, learning_rate, epochs)`\n",
        "- applies helper functions to train neural network\n",
        "- does not need to return anything, works by updating weights and biases `A1`, `A2`, `b1`, `b2`"
      ],
      "id": "278c2212"
    },
    {
      "cell_type": "code",
      "execution_count": null,
      "metadata": {
        "id": "d5a8da57"
      },
      "outputs": [],
      "source": [
        "def train(inputs, outputs, learning_rate, epochs):\n",
        "    epoch_list = np.zeros(epochs)\n",
        "    error_list = np.zeros(epochs)\n",
        "    for epoch in range(epochs):\n",
        "      error_amount = 0\n",
        "      for x,y in zip(inputs,outputs):\n",
        "        a1, a2 = feed_forward(x)\n",
        "          # edit: calculate error using cost function\n",
        "        error = cost_function(y,a2)\n",
        "        error_amount += error\n",
        "\n",
        "            # edit: backpropogate using gradient function\n",
        "        dW1, dW2, db1,db2= gradient(x,y,a1,a2)\n",
        "\n",
        "        global W1, b1, W2, b2\n",
        "        W1 = W1 - (learning_rate*dW1)\n",
        "        W2 = W2  - (learning_rate * np.transpose(dW2))\n",
        "        b1 = b1 - (learning_rate*db1)\n",
        "        b2 = b2 -(learning_rate*db2)\n",
        "      error_list[epoch] = error_amount/len(outputs)*100\n",
        "      epoch_list[epoch] = epoch\n",
        "\n",
        "    df = pd.DataFrame(error_list,epoch_list)\n",
        "    return df"
      ],
      "id": "d5a8da57"
    },
    {
      "cell_type": "markdown",
      "metadata": {
        "id": "2c37d965"
      },
      "source": [
        "#### `test(inputs, outputs)`\n",
        "- run after training to see if neural network works well on other data points that it didn't see during training\n",
        "- takes in test `inputs` and `outputs` and returns `percent_correct`"
      ],
      "id": "2c37d965"
    },
    {
      "cell_type": "code",
      "execution_count": null,
      "metadata": {
        "id": "137247e8"
      },
      "outputs": [],
      "source": [
        "def test(inputs, outputs):\n",
        "\n",
        "    error = 0\n",
        "    for x,y in zip(inputs,outputs):\n",
        "      a1, a2 = feed_forward(x)\n",
        "      error+= cost_function(y,a2)\n",
        "\n",
        "    percent_correct = error/len(outputs)*100\n",
        "\n",
        "    return percent_correct"
      ],
      "id": "137247e8"
    },
    {
      "cell_type": "markdown",
      "metadata": {
        "id": "bd17c7e2"
      },
      "source": [
        "# Load Data and Run Neural Network\n",
        "No editing needed below but can try out different values for `learning_rate` or `epochs`\n",
        "\n",
        "**NOTE**: make sure to rerun `initialize_random_weights` each time you train the network (otherwise `train` function will have edited the matices and you want them to start random)"
      ],
      "id": "bd17c7e2"
    },
    {
      "cell_type": "markdown",
      "metadata": {
        "id": "faec914f"
      },
      "source": [
        "### Load Data"
      ],
      "id": "faec914f"
    },
    {
      "cell_type": "code",
      "execution_count": null,
      "metadata": {
        "id": "9115ee7f",
        "colab": {
          "base_uri": "https://localhost:8080/"
        },
        "outputId": "31b3304c-acf8-4221-9517-15c568c279a6"
      },
      "outputs": [
        {
          "output_type": "stream",
          "name": "stdout",
          "text": [
            "1\n",
            "2\n"
          ]
        }
      ],
      "source": [
        "X = pd.read_csv('penguins1.csv', usecols=range(1,4))\n",
        "X = X.to_numpy()\n",
        "Y = pd.read_csv('penguins2.csv', usecols=range(1,2))\n",
        "Y = Y.to_numpy()\n",
        "\n",
        "# normalize X dataset\n",
        "X = normalize(X, axis=1, norm='l2')\n",
        "\n",
        "\n"
      ],
      "id": "9115ee7f"
    },
    {
      "cell_type": "markdown",
      "metadata": {
        "id": "99214f39"
      },
      "source": [
        "### Split into test (`x_test`, `y_test`) and train (`x_train`, `y_train`) datasets"
      ],
      "id": "99214f39"
    },
    {
      "cell_type": "code",
      "execution_count": null,
      "metadata": {
        "id": "35322037"
      },
      "outputs": [],
      "source": [
        "x_train,x_test,y_train,y_test = train_test_split(X,Y,test_size=0.2)"
      ],
      "id": "35322037"
    },
    {
      "cell_type": "markdown",
      "metadata": {
        "id": "52ab62d2"
      },
      "source": [
        "### Initialize values of weights `A1`, `A2` and biases `b1`, `b2`"
      ],
      "id": "52ab62d2"
    },
    {
      "cell_type": "code",
      "execution_count": null,
      "metadata": {
        "colab": {
          "base_uri": "https://localhost:8080/"
        },
        "id": "07f632fb",
        "outputId": "5f39efcf-ce0b-4793-96bf-65b8f2acb965"
      },
      "outputs": [
        {
          "output_type": "execute_result",
          "data": {
            "text/plain": [
              "array([[-1.67237297,  1.19501244, -1.38389505],\n",
              "       [ 0.95371361,  1.13643696,  1.30200786],\n",
              "       [-0.64828239,  1.17193464, -0.29900236]])"
            ]
          },
          "metadata": {},
          "execution_count": 118
        }
      ],
      "source": [
        "#Weights\n",
        "W1 = initialize_random_weights(3,3)\n",
        "W2 = initialize_random_weights(3,1)\n",
        "\n",
        "#Biases\n",
        "b1 = initialize_random_weights(3,1)\n",
        "b2 = initialize_random_weights(1,1)\n",
        "learning_rate = .1\n",
        "epochs = 500\n",
        "\n",
        "\n",
        "W1"
      ],
      "id": "07f632fb"
    },
    {
      "cell_type": "code",
      "source": [
        "W1"
      ],
      "metadata": {
        "colab": {
          "base_uri": "https://localhost:8080/"
        },
        "id": "KS3OUe6a5CCo",
        "outputId": "c0cbbef4-240e-424b-b962-b24594f5a991"
      },
      "id": "KS3OUe6a5CCo",
      "execution_count": null,
      "outputs": [
        {
          "output_type": "execute_result",
          "data": {
            "text/plain": [
              "array([[ 1.67528915,  0.51959684,  1.67361119],\n",
              "       [-0.48316135,  1.1095308 ,  0.49779618],\n",
              "       [-0.19396953, -0.54603797, -2.25358435]])"
            ]
          },
          "metadata": {},
          "execution_count": 103
        }
      ]
    },
    {
      "cell_type": "markdown",
      "metadata": {
        "id": "51ac51be"
      },
      "source": [
        "### `train`"
      ],
      "id": "51ac51be"
    },
    {
      "cell_type": "code",
      "execution_count": null,
      "metadata": {
        "id": "6ed3ab7d"
      },
      "outputs": [],
      "source": [
        "df = train(x_train, y_train, .1, 500)"
      ],
      "id": "6ed3ab7d"
    },
    {
      "cell_type": "code",
      "source": [
        "df #Epochs are the index and the 0 column refers to the percentage of error"
      ],
      "metadata": {
        "colab": {
          "base_uri": "https://localhost:8080/",
          "height": 423
        },
        "id": "j5NqiLi6GVJU",
        "outputId": "cb0f8d92-4175-40bd-ca29-c8b77858ea46"
      },
      "id": "j5NqiLi6GVJU",
      "execution_count": null,
      "outputs": [
        {
          "output_type": "execute_result",
          "data": {
            "text/plain": [
              "               0\n",
              "0.0    24.903346\n",
              "1.0    24.914060\n",
              "2.0    24.945327\n",
              "3.0    24.945727\n",
              "4.0    24.942558\n",
              "...          ...\n",
              "495.0   4.479190\n",
              "496.0   4.447427\n",
              "497.0   4.416004\n",
              "498.0   4.384915\n",
              "499.0   4.354157\n",
              "\n",
              "[500 rows x 1 columns]"
            ],
            "text/html": [
              "\n",
              "  <div id=\"df-9ecaed5f-d519-4daf-8d91-919bb978521e\" class=\"colab-df-container\">\n",
              "    <div>\n",
              "<style scoped>\n",
              "    .dataframe tbody tr th:only-of-type {\n",
              "        vertical-align: middle;\n",
              "    }\n",
              "\n",
              "    .dataframe tbody tr th {\n",
              "        vertical-align: top;\n",
              "    }\n",
              "\n",
              "    .dataframe thead th {\n",
              "        text-align: right;\n",
              "    }\n",
              "</style>\n",
              "<table border=\"1\" class=\"dataframe\">\n",
              "  <thead>\n",
              "    <tr style=\"text-align: right;\">\n",
              "      <th></th>\n",
              "      <th>0</th>\n",
              "    </tr>\n",
              "  </thead>\n",
              "  <tbody>\n",
              "    <tr>\n",
              "      <th>0.0</th>\n",
              "      <td>24.903346</td>\n",
              "    </tr>\n",
              "    <tr>\n",
              "      <th>1.0</th>\n",
              "      <td>24.914060</td>\n",
              "    </tr>\n",
              "    <tr>\n",
              "      <th>2.0</th>\n",
              "      <td>24.945327</td>\n",
              "    </tr>\n",
              "    <tr>\n",
              "      <th>3.0</th>\n",
              "      <td>24.945727</td>\n",
              "    </tr>\n",
              "    <tr>\n",
              "      <th>4.0</th>\n",
              "      <td>24.942558</td>\n",
              "    </tr>\n",
              "    <tr>\n",
              "      <th>...</th>\n",
              "      <td>...</td>\n",
              "    </tr>\n",
              "    <tr>\n",
              "      <th>495.0</th>\n",
              "      <td>4.479190</td>\n",
              "    </tr>\n",
              "    <tr>\n",
              "      <th>496.0</th>\n",
              "      <td>4.447427</td>\n",
              "    </tr>\n",
              "    <tr>\n",
              "      <th>497.0</th>\n",
              "      <td>4.416004</td>\n",
              "    </tr>\n",
              "    <tr>\n",
              "      <th>498.0</th>\n",
              "      <td>4.384915</td>\n",
              "    </tr>\n",
              "    <tr>\n",
              "      <th>499.0</th>\n",
              "      <td>4.354157</td>\n",
              "    </tr>\n",
              "  </tbody>\n",
              "</table>\n",
              "<p>500 rows × 1 columns</p>\n",
              "</div>\n",
              "    <div class=\"colab-df-buttons\">\n",
              "\n",
              "  <div class=\"colab-df-container\">\n",
              "    <button class=\"colab-df-convert\" onclick=\"convertToInteractive('df-9ecaed5f-d519-4daf-8d91-919bb978521e')\"\n",
              "            title=\"Convert this dataframe to an interactive table.\"\n",
              "            style=\"display:none;\">\n",
              "\n",
              "  <svg xmlns=\"http://www.w3.org/2000/svg\" height=\"24px\" viewBox=\"0 -960 960 960\">\n",
              "    <path d=\"M120-120v-720h720v720H120Zm60-500h600v-160H180v160Zm220 220h160v-160H400v160Zm0 220h160v-160H400v160ZM180-400h160v-160H180v160Zm440 0h160v-160H620v160ZM180-180h160v-160H180v160Zm440 0h160v-160H620v160Z\"/>\n",
              "  </svg>\n",
              "    </button>\n",
              "\n",
              "  <style>\n",
              "    .colab-df-container {\n",
              "      display:flex;\n",
              "      gap: 12px;\n",
              "    }\n",
              "\n",
              "    .colab-df-convert {\n",
              "      background-color: #E8F0FE;\n",
              "      border: none;\n",
              "      border-radius: 50%;\n",
              "      cursor: pointer;\n",
              "      display: none;\n",
              "      fill: #1967D2;\n",
              "      height: 32px;\n",
              "      padding: 0 0 0 0;\n",
              "      width: 32px;\n",
              "    }\n",
              "\n",
              "    .colab-df-convert:hover {\n",
              "      background-color: #E2EBFA;\n",
              "      box-shadow: 0px 1px 2px rgba(60, 64, 67, 0.3), 0px 1px 3px 1px rgba(60, 64, 67, 0.15);\n",
              "      fill: #174EA6;\n",
              "    }\n",
              "\n",
              "    .colab-df-buttons div {\n",
              "      margin-bottom: 4px;\n",
              "    }\n",
              "\n",
              "    [theme=dark] .colab-df-convert {\n",
              "      background-color: #3B4455;\n",
              "      fill: #D2E3FC;\n",
              "    }\n",
              "\n",
              "    [theme=dark] .colab-df-convert:hover {\n",
              "      background-color: #434B5C;\n",
              "      box-shadow: 0px 1px 3px 1px rgba(0, 0, 0, 0.15);\n",
              "      filter: drop-shadow(0px 1px 2px rgba(0, 0, 0, 0.3));\n",
              "      fill: #FFFFFF;\n",
              "    }\n",
              "  </style>\n",
              "\n",
              "    <script>\n",
              "      const buttonEl =\n",
              "        document.querySelector('#df-9ecaed5f-d519-4daf-8d91-919bb978521e button.colab-df-convert');\n",
              "      buttonEl.style.display =\n",
              "        google.colab.kernel.accessAllowed ? 'block' : 'none';\n",
              "\n",
              "      async function convertToInteractive(key) {\n",
              "        const element = document.querySelector('#df-9ecaed5f-d519-4daf-8d91-919bb978521e');\n",
              "        const dataTable =\n",
              "          await google.colab.kernel.invokeFunction('convertToInteractive',\n",
              "                                                    [key], {});\n",
              "        if (!dataTable) return;\n",
              "\n",
              "        const docLinkHtml = 'Like what you see? Visit the ' +\n",
              "          '<a target=\"_blank\" href=https://colab.research.google.com/notebooks/data_table.ipynb>data table notebook</a>'\n",
              "          + ' to learn more about interactive tables.';\n",
              "        element.innerHTML = '';\n",
              "        dataTable['output_type'] = 'display_data';\n",
              "        await google.colab.output.renderOutput(dataTable, element);\n",
              "        const docLink = document.createElement('div');\n",
              "        docLink.innerHTML = docLinkHtml;\n",
              "        element.appendChild(docLink);\n",
              "      }\n",
              "    </script>\n",
              "  </div>\n",
              "\n",
              "\n",
              "<div id=\"df-825e12ff-06d4-48ea-8010-7cfb811c3c07\">\n",
              "  <button class=\"colab-df-quickchart\" onclick=\"quickchart('df-825e12ff-06d4-48ea-8010-7cfb811c3c07')\"\n",
              "            title=\"Suggest charts\"\n",
              "            style=\"display:none;\">\n",
              "\n",
              "<svg xmlns=\"http://www.w3.org/2000/svg\" height=\"24px\"viewBox=\"0 0 24 24\"\n",
              "     width=\"24px\">\n",
              "    <g>\n",
              "        <path d=\"M19 3H5c-1.1 0-2 .9-2 2v14c0 1.1.9 2 2 2h14c1.1 0 2-.9 2-2V5c0-1.1-.9-2-2-2zM9 17H7v-7h2v7zm4 0h-2V7h2v10zm4 0h-2v-4h2v4z\"/>\n",
              "    </g>\n",
              "</svg>\n",
              "  </button>\n",
              "\n",
              "<style>\n",
              "  .colab-df-quickchart {\n",
              "      --bg-color: #E8F0FE;\n",
              "      --fill-color: #1967D2;\n",
              "      --hover-bg-color: #E2EBFA;\n",
              "      --hover-fill-color: #174EA6;\n",
              "      --disabled-fill-color: #AAA;\n",
              "      --disabled-bg-color: #DDD;\n",
              "  }\n",
              "\n",
              "  [theme=dark] .colab-df-quickchart {\n",
              "      --bg-color: #3B4455;\n",
              "      --fill-color: #D2E3FC;\n",
              "      --hover-bg-color: #434B5C;\n",
              "      --hover-fill-color: #FFFFFF;\n",
              "      --disabled-bg-color: #3B4455;\n",
              "      --disabled-fill-color: #666;\n",
              "  }\n",
              "\n",
              "  .colab-df-quickchart {\n",
              "    background-color: var(--bg-color);\n",
              "    border: none;\n",
              "    border-radius: 50%;\n",
              "    cursor: pointer;\n",
              "    display: none;\n",
              "    fill: var(--fill-color);\n",
              "    height: 32px;\n",
              "    padding: 0;\n",
              "    width: 32px;\n",
              "  }\n",
              "\n",
              "  .colab-df-quickchart:hover {\n",
              "    background-color: var(--hover-bg-color);\n",
              "    box-shadow: 0 1px 2px rgba(60, 64, 67, 0.3), 0 1px 3px 1px rgba(60, 64, 67, 0.15);\n",
              "    fill: var(--button-hover-fill-color);\n",
              "  }\n",
              "\n",
              "  .colab-df-quickchart-complete:disabled,\n",
              "  .colab-df-quickchart-complete:disabled:hover {\n",
              "    background-color: var(--disabled-bg-color);\n",
              "    fill: var(--disabled-fill-color);\n",
              "    box-shadow: none;\n",
              "  }\n",
              "\n",
              "  .colab-df-spinner {\n",
              "    border: 2px solid var(--fill-color);\n",
              "    border-color: transparent;\n",
              "    border-bottom-color: var(--fill-color);\n",
              "    animation:\n",
              "      spin 1s steps(1) infinite;\n",
              "  }\n",
              "\n",
              "  @keyframes spin {\n",
              "    0% {\n",
              "      border-color: transparent;\n",
              "      border-bottom-color: var(--fill-color);\n",
              "      border-left-color: var(--fill-color);\n",
              "    }\n",
              "    20% {\n",
              "      border-color: transparent;\n",
              "      border-left-color: var(--fill-color);\n",
              "      border-top-color: var(--fill-color);\n",
              "    }\n",
              "    30% {\n",
              "      border-color: transparent;\n",
              "      border-left-color: var(--fill-color);\n",
              "      border-top-color: var(--fill-color);\n",
              "      border-right-color: var(--fill-color);\n",
              "    }\n",
              "    40% {\n",
              "      border-color: transparent;\n",
              "      border-right-color: var(--fill-color);\n",
              "      border-top-color: var(--fill-color);\n",
              "    }\n",
              "    60% {\n",
              "      border-color: transparent;\n",
              "      border-right-color: var(--fill-color);\n",
              "    }\n",
              "    80% {\n",
              "      border-color: transparent;\n",
              "      border-right-color: var(--fill-color);\n",
              "      border-bottom-color: var(--fill-color);\n",
              "    }\n",
              "    90% {\n",
              "      border-color: transparent;\n",
              "      border-bottom-color: var(--fill-color);\n",
              "    }\n",
              "  }\n",
              "</style>\n",
              "\n",
              "  <script>\n",
              "    async function quickchart(key) {\n",
              "      const quickchartButtonEl =\n",
              "        document.querySelector('#' + key + ' button');\n",
              "      quickchartButtonEl.disabled = true;  // To prevent multiple clicks.\n",
              "      quickchartButtonEl.classList.add('colab-df-spinner');\n",
              "      try {\n",
              "        const charts = await google.colab.kernel.invokeFunction(\n",
              "            'suggestCharts', [key], {});\n",
              "      } catch (error) {\n",
              "        console.error('Error during call to suggestCharts:', error);\n",
              "      }\n",
              "      quickchartButtonEl.classList.remove('colab-df-spinner');\n",
              "      quickchartButtonEl.classList.add('colab-df-quickchart-complete');\n",
              "    }\n",
              "    (() => {\n",
              "      let quickchartButtonEl =\n",
              "        document.querySelector('#df-825e12ff-06d4-48ea-8010-7cfb811c3c07 button');\n",
              "      quickchartButtonEl.style.display =\n",
              "        google.colab.kernel.accessAllowed ? 'block' : 'none';\n",
              "    })();\n",
              "  </script>\n",
              "</div>\n",
              "    </div>\n",
              "  </div>\n"
            ]
          },
          "metadata": {},
          "execution_count": 114
        }
      ]
    },
    {
      "cell_type": "markdown",
      "metadata": {
        "id": "bd563cd4"
      },
      "source": [
        "### `test`"
      ],
      "id": "bd563cd4"
    },
    {
      "cell_type": "code",
      "execution_count": null,
      "metadata": {
        "id": "c18f1077",
        "colab": {
          "base_uri": "https://localhost:8080/"
        },
        "outputId": "a9223b12-7d02-4f77-e5cb-1dccd3c083d3"
      },
      "outputs": [
        {
          "output_type": "execute_result",
          "data": {
            "text/plain": [
              "6.607405197474248"
            ]
          },
          "metadata": {},
          "execution_count": 121
        }
      ],
      "source": [
        "test_error =test(x_test, y_test)\n",
        "float(test_error[0])"
      ],
      "id": "c18f1077"
    },
    {
      "cell_type": "markdown",
      "metadata": {
        "id": "13027e85"
      },
      "source": [
        "# Analysis (Train Error)\n",
        "\n",
        "1. How are the weight matrices updated?\n",
        "    - print the weight matrices every 50 epochs in `train` function\n",
        "    \n",
        "    \n",
        "\n",
        "2. How does the error change over epochs?\n",
        "    - implement a method of calculating and graphing the change in error of your neural network in `train` function\n",
        "    -I did this by returning a pandas dataframe, `error_df`, from the `train` function that contained two columns, the epoch number and the calculated error for that epoch (remember to average over the whole epoch).  Then I plotted using `error_df.plot(x = \"epoch\", y = \"error\")`. There are many different ways this could be done though!\n",
        "    \n",
        "    Want to make something like this:\n",
        "    \n",
        "    ![image-4.png](https://drive.google.com/uc?id=10LqjzKCplZjWXnSxuGjQYF8ycTToNx9K)\n",
        "\n",
        "  "
      ],
      "id": "13027e85"
    },
    {
      "cell_type": "markdown",
      "source": [
        "Graph of Error"
      ],
      "metadata": {
        "id": "-0ZRdVDIy1FJ"
      },
      "id": "-0ZRdVDIy1FJ"
    },
    {
      "cell_type": "code",
      "source": [
        "d = df.reset_index()\n",
        "\n",
        "d\n",
        "\n",
        "x =d['index']\n",
        "y = d[0]\n",
        "\n",
        "\n",
        "plt.plot(x, y)\n",
        "\n",
        "# naming the x axis\n",
        "plt.xlabel(\"Epoch\")\n",
        "# naming the y axis\n",
        "plt.ylabel('Error')\n",
        "\n",
        "# giving a title to my graph\n",
        "plt.title(\"Error as Epochs Increase\")"
      ],
      "metadata": {
        "colab": {
          "base_uri": "https://localhost:8080/",
          "height": 489
        },
        "id": "ZTHRE5cVy3c9",
        "outputId": "63a56fc4-e388-4297-a616-eea06ef7db3b"
      },
      "id": "ZTHRE5cVy3c9",
      "execution_count": null,
      "outputs": [
        {
          "output_type": "execute_result",
          "data": {
            "text/plain": [
              "Text(0.5, 1.0, 'Error as Epochs Increases')"
            ]
          },
          "metadata": {},
          "execution_count": 116
        },
        {
          "output_type": "display_data",
          "data": {
            "text/plain": [
              "<Figure size 640x480 with 1 Axes>"
            ],
            "image/png": "[encoded data removed]"
          },
          "metadata": {}
        }
      ]
    }
  ],
  "metadata": {
    "colab": {
      "provenance": []
    },
    "kernelspec": {
      "display_name": "Python 3 (ipykernel)",
      "language": "python",
      "name": "python3"
    },
    "language_info": {
      "codemirror_mode": {
        "name": "ipython",
        "version": 3
      },
      "file_extension": ".py",
      "mimetype": "text/x-python",
      "name": "python",
      "nbconvert_exporter": "python",
      "pygments_lexer": "ipython3",
      "version": "3.9.13"
    }
  },
  "nbformat": 4,
  "nbformat_minor": 5
}